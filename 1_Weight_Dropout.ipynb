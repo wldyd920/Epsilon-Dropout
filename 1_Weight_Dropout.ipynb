{
  "nbformat": 4,
  "nbformat_minor": 0,
  "metadata": {
    "colab": {
      "provenance": []
    },
    "kernelspec": {
      "name": "python3",
      "display_name": "Python 3"
    },
    "language_info": {
      "name": "python"
    },
    "accelerator": "GPU",
    "gpuClass": "standard"
  },
  "cells": [
    {
      "cell_type": "code",
      "source": [
        "# 하이퍼파라미터 설정\n",
        "num_epochs = 10\n",
        "learning_rate = 0.1"
      ],
      "metadata": {
        "id": "JfmjSWzo0Awc"
      },
      "execution_count": 60,
      "outputs": []
    },
    {
      "cell_type": "code",
      "source": [
        "# 가중치 드랍아웃 레이어\n",
        "class WeightDropout(nn.Module):\n",
        "    def __init__(self, module, p=0.5):\n",
        "        super(WeightDropout, self).__init__()\n",
        "        self.module = module\n",
        "        self.p = p\n",
        "        self.weight = nn.Parameter(module.weight.data)\n",
        "\n",
        "    def forward(self, *args):\n",
        "        if self.training:\n",
        "            # dropout을 적용한 가중치\n",
        "            weight = F.dropout(self.weight, p=self.p, training=True)\n",
        "            # self.module.weight에 새로운 가중치 할당\n",
        "            self.module.weight = nn.Parameter(weight)\n",
        "        return self.module(*args)"
      ],
      "metadata": {
        "id": "Lv-GxQN_vd55"
      },
      "execution_count": 61,
      "outputs": []
    },
    {
      "cell_type": "markdown",
      "source": [
        "# ***Basic Code***"
      ],
      "metadata": {
        "id": "rmqjm7Jv0j2V"
      }
    },
    {
      "cell_type": "code",
      "source": [
        "import torch.nn as nn\n",
        "import torch.nn.functional as F\n",
        "import torch\n",
        "from torchvision.datasets import MNIST\n",
        "from torchvision import transforms\n",
        "import torch.optim as optim\n",
        "from torchvision.datasets import CIFAR10\n",
        "\n",
        "device = torch.device(\"cuda\" if torch.cuda.is_available() else \"cpu\")\n",
        "print(f\"Device: {device}\")"
      ],
      "metadata": {
        "colab": {
          "base_uri": "https://localhost:8080/"
        },
        "id": "Yc_NJzd3sw29",
        "outputId": "229e8cf7-e53e-4ce6-be79-5c0305de03be"
      },
      "execution_count": 62,
      "outputs": [
        {
          "output_type": "stream",
          "name": "stdout",
          "text": [
            "Device: cuda\n"
          ]
        }
      ]
    },
    {
      "cell_type": "code",
      "source": [
        "def dataset_MNIST():\n",
        "  transform = transforms.Compose([transforms.ToTensor(),\n",
        "                                  transforms.Normalize((0.5,), (0.5,))])\n",
        "  train_dataset = MNIST(root='./data', train=True, download=True, transform=transform)\n",
        "  test_dataset = MNIST(root='./data', train=False, download=True, transform=transform)\n",
        "  train_loader = torch.utils.data.DataLoader(train_dataset, batch_size=64)\n",
        "  test_loader = torch.utils.data.DataLoader(test_dataset, batch_size=64)\n",
        "  return train_loader, test_loader\n",
        "\n",
        "\n",
        "def dataset_CIFAR10():\n",
        "  transform = transforms.Compose([\n",
        "      transforms.Resize((32, 32)),\n",
        "      transforms.ToTensor(),\n",
        "      transforms.Normalize((0.5, 0.5, 0.5), (0.5, 0.5, 0.5))\n",
        "  ])\n",
        "  train_dataset = CIFAR10(root='./data', train=True, download=True, transform=transform)\n",
        "  test_dataset = CIFAR10(root='./data', train=False, download=True, transform=transform)\n",
        "  train_loader = torch.utils.data.DataLoader(train_dataset, batch_size=64)\n",
        "  test_loader = torch.utils.data.DataLoader(test_dataset, batch_size=64)\n",
        "  return train_loader, test_loader"
      ],
      "metadata": {
        "id": "_G6qN-6tw38Q"
      },
      "execution_count": 63,
      "outputs": []
    },
    {
      "cell_type": "code",
      "source": [
        "# 모델 학습 함수\n",
        "def train(num_epochs):\n",
        "  model.to(device)\n",
        "  for epoch in range(num_epochs):\n",
        "      model.train()\n",
        "      for i, (images, labels) in enumerate(train_loader):\n",
        "        images, labels = images.to(device), labels.to(device)\n",
        "        optimizer.zero_grad()\n",
        "        outputs = model(images)\n",
        "        loss = criterion(outputs, labels)\n",
        "        loss.backward()\n",
        "        optimizer.step()\n",
        "\n",
        "      model.eval()\n",
        "      with torch.no_grad():\n",
        "          correct = 0\n",
        "          total = 0\n",
        "          for images, labels in test_loader:\n",
        "            images, labels = images.to(device), labels.to(device)\n",
        "            outputs = model(images)\n",
        "            _, predicted = torch.max(outputs.data, 1)\n",
        "            total += labels.size(0)\n",
        "            correct += (predicted == labels).sum().item()\n",
        "          accuracy = 100 * correct / total\n",
        "\n",
        "      print(f'Epoch [{epoch+1}/{num_epochs}], Test Accuracy: {accuracy:.2f}%')"
      ],
      "metadata": {
        "id": "QGgv3xVKw5g3"
      },
      "execution_count": 64,
      "outputs": []
    },
    {
      "cell_type": "markdown",
      "source": [
        "# ***Experiments***"
      ],
      "metadata": {
        "id": "tf4spQs44sfG"
      }
    },
    {
      "cell_type": "markdown",
      "source": [
        "## [MNIST] basic setting (without Dropout)"
      ],
      "metadata": {
        "id": "3FfEVnJ_0VbV"
      }
    },
    {
      "cell_type": "code",
      "source": [
        "class Net_MNIST(nn.Module):\n",
        "    def __init__(self):\n",
        "        super(Net_MNIST, self).__init__()\n",
        "        self.conv1 = nn.Conv2d(1, 20, 5, 1)\n",
        "        self.conv2 = nn.Conv2d(20, 50, 5, 1)\n",
        "        self.fc1 = nn.Linear(4*4*50, 500)\n",
        "        self.fc2 = nn.Linear(500, 10) \n",
        "\n",
        "    def forward(self, x):\n",
        "        x = F.relu(self.conv1(x))\n",
        "        x = F.max_pool2d(x, 2, 2)\n",
        "        x = F.relu(self.conv2(x))\n",
        "        x = F.max_pool2d(x, 2, 2)\n",
        "        x = x.view(-1, 4*4*50)\n",
        "        x = F.relu(self.fc1(x))\n",
        "        x = self.fc2(x)\n",
        "        return x\n",
        "\n",
        "# 모델 초기화\n",
        "model = Net_MNIST()\n",
        "\n",
        "# 손실 함수와 옵티마이저 정의\n",
        "criterion = nn.CrossEntropyLoss()\n",
        "optimizer = optim.SGD(model.parameters(), lr=learning_rate)\n",
        "\n",
        "# 데이터셋 로드\n",
        "train_loader, test_loader = dataset_MNIST()\n",
        "\n",
        "# 모델 학습\n",
        "train(num_epochs)"
      ],
      "metadata": {
        "colab": {
          "base_uri": "https://localhost:8080/"
        },
        "id": "wB2N6LGTkgmN",
        "outputId": "da98c60e-5efa-4f6d-aab2-5698637540c5"
      },
      "execution_count": 65,
      "outputs": [
        {
          "output_type": "stream",
          "name": "stdout",
          "text": [
            "Epoch [1/10], Test Accuracy: 98.15%\n",
            "Epoch [2/10], Test Accuracy: 98.74%\n",
            "Epoch [3/10], Test Accuracy: 98.92%\n",
            "Epoch [4/10], Test Accuracy: 99.01%\n",
            "Epoch [5/10], Test Accuracy: 99.09%\n",
            "Epoch [6/10], Test Accuracy: 99.04%\n",
            "Epoch [7/10], Test Accuracy: 99.04%\n",
            "Epoch [8/10], Test Accuracy: 99.08%\n",
            "Epoch [9/10], Test Accuracy: 99.09%\n",
            "Epoch [10/10], Test Accuracy: 99.18%\n"
          ]
        }
      ]
    },
    {
      "cell_type": "markdown",
      "source": [
        "## [MNIST] Dropout setting (with normal Dropout)"
      ],
      "metadata": {
        "id": "0ROrb9YN5r9D"
      }
    },
    {
      "cell_type": "code",
      "source": [
        "class Net_MNIST(nn.Module):\n",
        "    def __init__(self):\n",
        "        super(Net_MNIST, self).__init__()\n",
        "        self.conv1 = nn.Conv2d(1, 20, 5, 1)\n",
        "        self.conv2 = nn.Conv2d(20, 50, 5, 1)\n",
        "        self.fc1 = nn.Linear(4*4*50, 500)\n",
        "        self.dropout = nn.Dropout(0.5)\n",
        "        self.fc2 = nn.Linear(500, 10) \n",
        "        \n",
        "    def forward(self, x):\n",
        "        x = F.relu(self.conv1(x))\n",
        "        x = F.max_pool2d(x, 2, 2)\n",
        "        x = F.relu(self.conv2(x))\n",
        "        x = F.max_pool2d(x, 2, 2)\n",
        "        x = x.view(-1, 4*4*50)\n",
        "        x = F.relu(self.fc1(x))\n",
        "        x = self.dropout(x)\n",
        "        x = self.fc2(x)\n",
        "        return x\n",
        "\n",
        "# 모델 초기화\n",
        "model = Net_MNIST()\n",
        "\n",
        "# 손실 함수와 옵티마이저 정의\n",
        "criterion = nn.CrossEntropyLoss()\n",
        "optimizer = optim.SGD(model.parameters(), lr=learning_rate)\n",
        "\n",
        "# 데이터셋 로드\n",
        "train_loader, test_loader = dataset_MNIST()\n",
        "\n",
        "# 모델 학습\n",
        "train(num_epochs)"
      ],
      "metadata": {
        "colab": {
          "base_uri": "https://localhost:8080/"
        },
        "id": "M-4Bd8aE5UOd",
        "outputId": "9c62c126-f1c2-4daf-9022-5f3d65593009"
      },
      "execution_count": 69,
      "outputs": [
        {
          "output_type": "stream",
          "name": "stdout",
          "text": [
            "Epoch [1/10], Test Accuracy: 98.14%\n",
            "Epoch [2/10], Test Accuracy: 98.71%\n",
            "Epoch [3/10], Test Accuracy: 98.95%\n",
            "Epoch [4/10], Test Accuracy: 98.98%\n",
            "Epoch [5/10], Test Accuracy: 99.05%\n",
            "Epoch [6/10], Test Accuracy: 99.13%\n",
            "Epoch [7/10], Test Accuracy: 99.22%\n",
            "Epoch [8/10], Test Accuracy: 99.20%\n",
            "Epoch [9/10], Test Accuracy: 99.18%\n",
            "Epoch [10/10], Test Accuracy: 99.17%\n"
          ]
        }
      ]
    },
    {
      "cell_type": "markdown",
      "source": [
        "## [MNIST] our setting (with Weight Dropout)"
      ],
      "metadata": {
        "id": "Hic40xa70ujB"
      }
    },
    {
      "cell_type": "code",
      "source": [
        "class Net_MNIST(nn.Module):\n",
        "    def __init__(self):\n",
        "        super(Net_MNIST, self).__init__()\n",
        "        self.conv1 = nn.Conv2d(1, 20, 5, 1)\n",
        "        self.conv2 = nn.Conv2d(20, 50, 5, 1)\n",
        "        self.fc1 = nn.Linear(4*4*50, 500)\n",
        "        self.fc2 = WeightDropout(nn.Linear(500, 10), p=0.5)\n",
        "\n",
        "    def forward(self, x):\n",
        "        x = F.relu(self.conv1(x))\n",
        "        x = F.max_pool2d(x, 2, 2)\n",
        "        x = F.relu(self.conv2(x))\n",
        "        x = F.max_pool2d(x, 2, 2)\n",
        "        x = x.view(-1, 4*4*50)\n",
        "        x = F.relu(self.fc1(x))\n",
        "        x = self.fc2(x)\n",
        "        return x\n",
        "\n",
        "# 모델 초기화\n",
        "model = Net_MNIST()\n",
        "\n",
        "# 손실 함수와 옵티마이저 정의\n",
        "criterion = nn.CrossEntropyLoss()\n",
        "optimizer = optim.SGD(model.parameters(), lr=learning_rate)\n",
        "\n",
        "# 데이터셋 로드\n",
        "train_loader, test_loader = dataset_MNIST()\n",
        "\n",
        "# 모델 학습\n",
        "train(num_epochs)"
      ],
      "metadata": {
        "colab": {
          "base_uri": "https://localhost:8080/"
        },
        "id": "XTCF9r7PzDX_",
        "outputId": "c4b19eeb-11ac-4418-f28a-8383f3ab31fa"
      },
      "execution_count": 66,
      "outputs": [
        {
          "output_type": "stream",
          "name": "stdout",
          "text": [
            "Epoch [1/10], Test Accuracy: 96.98%\n",
            "Epoch [2/10], Test Accuracy: 98.06%\n",
            "Epoch [3/10], Test Accuracy: 98.47%\n",
            "Epoch [4/10], Test Accuracy: 98.75%\n",
            "Epoch [5/10], Test Accuracy: 98.89%\n",
            "Epoch [6/10], Test Accuracy: 98.48%\n",
            "Epoch [7/10], Test Accuracy: 98.87%\n",
            "Epoch [8/10], Test Accuracy: 99.00%\n",
            "Epoch [9/10], Test Accuracy: 99.02%\n",
            "Epoch [10/10], Test Accuracy: 99.01%\n"
          ]
        }
      ]
    },
    {
      "cell_type": "markdown",
      "source": [
        "## [CIFAR-10] basic setting (without Dropout)"
      ],
      "metadata": {
        "id": "Vyuf8f7R0ypo"
      }
    },
    {
      "cell_type": "code",
      "source": [
        "class Net_CIFAR10(nn.Module):\n",
        "    def __init__(self):\n",
        "        super(Net_CIFAR10, self).__init__()\n",
        "        self.conv1 = nn.Conv2d(3, 64, 5, 1)\n",
        "        self.conv2 = nn.Conv2d(64, 128, 5, 1)\n",
        "        self.fc1 = nn.Linear(5*5*128, 512)\n",
        "        self.fc2 = nn.Linear(512, 10)\n",
        "\n",
        "    def forward(self, x):\n",
        "        x = F.relu(self.conv1(x))\n",
        "        x = F.max_pool2d(x, 2, 2)\n",
        "        x = F.relu(self.conv2(x))\n",
        "        x = F.max_pool2d(x, 2, 2)\n",
        "        x = x.view(-1, 5*5*128)\n",
        "        x = F.relu(self.fc1(x))\n",
        "        x = self.fc2(x)\n",
        "        return x\n",
        "\n",
        "# 모델 초기화\n",
        "model = Net_CIFAR10()\n",
        "\n",
        "# 손실 함수와 옵티마이저 정의\n",
        "criterion = nn.CrossEntropyLoss()\n",
        "optimizer = optim.SGD(model.parameters(), lr=learning_rate)\n",
        "\n",
        "# 데이터셋 로드\n",
        "train_loader, test_loader = dataset_CIFAR10()\n",
        "\n",
        "# 모델 학습\n",
        "train(num_epochs)"
      ],
      "metadata": {
        "colab": {
          "base_uri": "https://localhost:8080/"
        },
        "id": "sqXkP93ekz-H",
        "outputId": "3c54a7c1-c559-4cdc-c01a-df83d5126d28"
      },
      "execution_count": 70,
      "outputs": [
        {
          "output_type": "stream",
          "name": "stdout",
          "text": [
            "Files already downloaded and verified\n",
            "Files already downloaded and verified\n",
            "Epoch [1/10], Test Accuracy: 35.96%\n",
            "Epoch [2/10], Test Accuracy: 57.69%\n",
            "Epoch [3/10], Test Accuracy: 64.51%\n",
            "Epoch [4/10], Test Accuracy: 68.13%\n",
            "Epoch [5/10], Test Accuracy: 71.52%\n",
            "Epoch [6/10], Test Accuracy: 70.96%\n",
            "Epoch [7/10], Test Accuracy: 71.03%\n",
            "Epoch [8/10], Test Accuracy: 71.08%\n",
            "Epoch [9/10], Test Accuracy: 72.19%\n",
            "Epoch [10/10], Test Accuracy: 73.05%\n"
          ]
        }
      ]
    },
    {
      "cell_type": "markdown",
      "source": [
        "## [CIFAR-10] Dropout setting (with normal Dropout)"
      ],
      "metadata": {
        "id": "NsTSw_XB52rD"
      }
    },
    {
      "cell_type": "code",
      "source": [
        "class Net_CIFAR10(nn.Module):\n",
        "    def __init__(self):\n",
        "        super(Net_CIFAR10, self).__init__()\n",
        "        self.conv1 = nn.Conv2d(3, 64, 5, 1)\n",
        "        self.conv2 = nn.Conv2d(64, 128, 5, 1)\n",
        "        self.fc1 = nn.Linear(5*5*128, 512)\n",
        "        self.dropout = nn.Dropout(0.5)\n",
        "        self.fc2 = nn.Linear(512, 10)\n",
        "\n",
        "    def forward(self, x):\n",
        "        x = F.relu(self.conv1(x))\n",
        "        x = F.max_pool2d(x, 2, 2)\n",
        "        x = F.relu(self.conv2(x))\n",
        "        x = F.max_pool2d(x, 2, 2)\n",
        "        x = x.view(-1, 5*5*128)\n",
        "        x = F.relu(self.fc1(x))\n",
        "        x = self.dropout(x)\n",
        "        x = self.fc2(x)\n",
        "        return x\n",
        "\n",
        "# 모델 초기화\n",
        "model = Net_CIFAR10()\n",
        "\n",
        "# 손실 함수와 옵티마이저 정의\n",
        "criterion = nn.CrossEntropyLoss()\n",
        "optimizer = optim.SGD(model.parameters(), lr=learning_rate)\n",
        "\n",
        "# 데이터셋 로드\n",
        "train_loader, test_loader = dataset_CIFAR10()\n",
        "\n",
        "# 모델 학습\n",
        "train(num_epochs)"
      ],
      "metadata": {
        "colab": {
          "base_uri": "https://localhost:8080/"
        },
        "id": "4szciU9w5_18",
        "outputId": "8bd16845-2d70-4af2-a7d9-e6dd70ee6f64"
      },
      "execution_count": 71,
      "outputs": [
        {
          "output_type": "stream",
          "name": "stdout",
          "text": [
            "Files already downloaded and verified\n",
            "Files already downloaded and verified\n",
            "Epoch [1/10], Test Accuracy: 42.55%\n",
            "Epoch [2/10], Test Accuracy: 55.79%\n",
            "Epoch [3/10], Test Accuracy: 56.83%\n",
            "Epoch [4/10], Test Accuracy: 69.17%\n",
            "Epoch [5/10], Test Accuracy: 70.10%\n",
            "Epoch [6/10], Test Accuracy: 72.29%\n",
            "Epoch [7/10], Test Accuracy: 72.53%\n",
            "Epoch [8/10], Test Accuracy: 72.03%\n",
            "Epoch [9/10], Test Accuracy: 74.84%\n",
            "Epoch [10/10], Test Accuracy: 74.83%\n"
          ]
        }
      ]
    },
    {
      "cell_type": "markdown",
      "source": [
        "## [CIFAR-10] our setting (with Weight Dropout)"
      ],
      "metadata": {
        "id": "_XXUQRpj023P"
      }
    },
    {
      "cell_type": "code",
      "source": [
        "class Net_CIFAR10(nn.Module):\n",
        "    def __init__(self):\n",
        "        super(Net_CIFAR10, self).__init__()\n",
        "        self.conv1 = nn.Conv2d(3, 64, 5, 1)\n",
        "        self.conv2 = nn.Conv2d(64, 128, 5, 1)\n",
        "        self.fc1 = nn.Linear(5*5*128, 512)\n",
        "        self.fc2 = WeightDropout(nn.Linear(512, 10), p=0.5)\n",
        "\n",
        "    def forward(self, x):\n",
        "        x = F.relu(self.conv1(x))\n",
        "        x = F.max_pool2d(x, 2, 2)\n",
        "        x = F.relu(self.conv2(x))\n",
        "        x = F.max_pool2d(x, 2, 2)\n",
        "        x = x.view(-1, 5*5*128)\n",
        "        x = F.relu(self.fc1(x))\n",
        "        x = self.fc2(x)\n",
        "        return x\n",
        "\n",
        "# 모델 초기화\n",
        "model = Net_CIFAR10()\n",
        "\n",
        "# 손실 함수와 옵티마이저 정의\n",
        "criterion = nn.CrossEntropyLoss()\n",
        "optimizer = optim.SGD(model.parameters(), lr=learning_rate)\n",
        "\n",
        "# 데이터셋 로드\n",
        "train_loader, test_loader = dataset_CIFAR10()\n",
        "\n",
        "# 모델 학습\n",
        "train(num_epochs)"
      ],
      "metadata": {
        "colab": {
          "base_uri": "https://localhost:8080/"
        },
        "id": "ajbLmHYQ8xoH",
        "outputId": "74535da0-46a8-43a3-fb1c-c1b712324417"
      },
      "execution_count": 75,
      "outputs": [
        {
          "output_type": "stream",
          "name": "stdout",
          "text": [
            "Files already downloaded and verified\n",
            "Files already downloaded and verified\n",
            "Epoch [1/10], Test Accuracy: 39.80%\n",
            "Epoch [2/10], Test Accuracy: 53.78%\n",
            "Epoch [3/10], Test Accuracy: 57.96%\n",
            "Epoch [4/10], Test Accuracy: 64.68%\n",
            "Epoch [5/10], Test Accuracy: 62.72%\n",
            "Epoch [6/10], Test Accuracy: 64.27%\n",
            "Epoch [7/10], Test Accuracy: 67.25%\n",
            "Epoch [8/10], Test Accuracy: 71.33%\n",
            "Epoch [9/10], Test Accuracy: 70.24%\n",
            "Epoch [10/10], Test Accuracy: 73.03%\n"
          ]
        }
      ]
    }
  ]
}
